{
 "cells": [
  {
   "cell_type": "code",
   "execution_count": 63,
   "id": "dafb34a1-f7df-42d0-8484-3ba1bfdd6c76",
   "metadata": {},
   "outputs": [],
   "source": [
    "# Data handling\n",
    "import pandas as pd\n",
    "import numpy as np\n",
    "\n",
    "# Data visualization\n",
    "import matplotlib.pyplot as plt\n",
    "import seaborn as sns\n",
    "\n",
    "# Machine Learning\n",
    "from sklearn.model_selection import train_test_split, cross_val_score\n",
    "from sklearn.linear_model import LinearRegression\n",
    "from sklearn.metrics import mean_absolute_error, r2_score\n",
    "\n",
    "# Save the model\n",
    "import joblib\n",
    "\n",
    "# Miscellaneous\n",
    "import warnings\n",
    "warnings.filterwarnings('ignore')  # to ignore warnings for clean output"
   ]
  },
  {
   "cell_type": "code",
   "execution_count": 64,
   "id": "afe2de60-f802-443a-944d-ca8fdbbee8e8",
   "metadata": {},
   "outputs": [
    {
     "data": {
      "text/html": [
       "<div>\n",
       "<style scoped>\n",
       "    .dataframe tbody tr th:only-of-type {\n",
       "        vertical-align: middle;\n",
       "    }\n",
       "\n",
       "    .dataframe tbody tr th {\n",
       "        vertical-align: top;\n",
       "    }\n",
       "\n",
       "    .dataframe thead th {\n",
       "        text-align: right;\n",
       "    }\n",
       "</style>\n",
       "<table border=\"1\" class=\"dataframe\">\n",
       "  <thead>\n",
       "    <tr style=\"text-align: right;\">\n",
       "      <th></th>\n",
       "      <th>area_type</th>\n",
       "      <th>availability</th>\n",
       "      <th>location</th>\n",
       "      <th>size</th>\n",
       "      <th>society</th>\n",
       "      <th>total_sqft</th>\n",
       "      <th>bath</th>\n",
       "      <th>balcony</th>\n",
       "      <th>price</th>\n",
       "    </tr>\n",
       "  </thead>\n",
       "  <tbody>\n",
       "    <tr>\n",
       "      <th>0</th>\n",
       "      <td>Super built-up  Area</td>\n",
       "      <td>19-Dec</td>\n",
       "      <td>Electronic City Phase II</td>\n",
       "      <td>2 BHK</td>\n",
       "      <td>Coomee</td>\n",
       "      <td>1056</td>\n",
       "      <td>2.0</td>\n",
       "      <td>1.0</td>\n",
       "      <td>39.07</td>\n",
       "    </tr>\n",
       "    <tr>\n",
       "      <th>1</th>\n",
       "      <td>Plot  Area</td>\n",
       "      <td>Ready To Move</td>\n",
       "      <td>Chikka Tirupathi</td>\n",
       "      <td>4 Bedroom</td>\n",
       "      <td>Theanmp</td>\n",
       "      <td>2600</td>\n",
       "      <td>5.0</td>\n",
       "      <td>3.0</td>\n",
       "      <td>120.00</td>\n",
       "    </tr>\n",
       "    <tr>\n",
       "      <th>2</th>\n",
       "      <td>Built-up  Area</td>\n",
       "      <td>Ready To Move</td>\n",
       "      <td>Uttarahalli</td>\n",
       "      <td>3 BHK</td>\n",
       "      <td>NaN</td>\n",
       "      <td>1440</td>\n",
       "      <td>2.0</td>\n",
       "      <td>3.0</td>\n",
       "      <td>62.00</td>\n",
       "    </tr>\n",
       "    <tr>\n",
       "      <th>3</th>\n",
       "      <td>Super built-up  Area</td>\n",
       "      <td>Ready To Move</td>\n",
       "      <td>Lingadheeranahalli</td>\n",
       "      <td>3 BHK</td>\n",
       "      <td>Soiewre</td>\n",
       "      <td>1521</td>\n",
       "      <td>3.0</td>\n",
       "      <td>1.0</td>\n",
       "      <td>95.00</td>\n",
       "    </tr>\n",
       "    <tr>\n",
       "      <th>4</th>\n",
       "      <td>Super built-up  Area</td>\n",
       "      <td>Ready To Move</td>\n",
       "      <td>Kothanur</td>\n",
       "      <td>2 BHK</td>\n",
       "      <td>NaN</td>\n",
       "      <td>1200</td>\n",
       "      <td>2.0</td>\n",
       "      <td>1.0</td>\n",
       "      <td>51.00</td>\n",
       "    </tr>\n",
       "  </tbody>\n",
       "</table>\n",
       "</div>"
      ],
      "text/plain": [
       "              area_type   availability                  location       size  \\\n",
       "0  Super built-up  Area         19-Dec  Electronic City Phase II      2 BHK   \n",
       "1            Plot  Area  Ready To Move          Chikka Tirupathi  4 Bedroom   \n",
       "2        Built-up  Area  Ready To Move               Uttarahalli      3 BHK   \n",
       "3  Super built-up  Area  Ready To Move        Lingadheeranahalli      3 BHK   \n",
       "4  Super built-up  Area  Ready To Move                  Kothanur      2 BHK   \n",
       "\n",
       "   society total_sqft  bath  balcony   price  \n",
       "0  Coomee        1056   2.0      1.0   39.07  \n",
       "1  Theanmp       2600   5.0      3.0  120.00  \n",
       "2      NaN       1440   2.0      3.0   62.00  \n",
       "3  Soiewre       1521   3.0      1.0   95.00  \n",
       "4      NaN       1200   2.0      1.0   51.00  "
      ]
     },
     "execution_count": 64,
     "metadata": {},
     "output_type": "execute_result"
    }
   ],
   "source": [
    "# Load the dataset\n",
    "df = pd.read_csv(\"Bengaluru_House_Data.csv\")\n",
    "\n",
    "# Copy original Dataframe. This will be used to generate bar chart of 'average house price per location'\n",
    "df_original = df.copy()\n",
    "\n",
    "# Show the first few rows\n",
    "df.head()"
   ]
  },
  {
   "cell_type": "code",
   "execution_count": 65,
   "id": "74582f53-ec88-42a5-ae3e-7e4853909243",
   "metadata": {},
   "outputs": [
    {
     "name": "stdout",
     "output_type": "stream",
     "text": [
      "Dataset shape: (13320, 9)\n",
      "<class 'pandas.core.frame.DataFrame'>\n",
      "RangeIndex: 13320 entries, 0 to 13319\n",
      "Data columns (total 9 columns):\n",
      " #   Column        Non-Null Count  Dtype  \n",
      "---  ------        --------------  -----  \n",
      " 0   area_type     13320 non-null  object \n",
      " 1   availability  13320 non-null  object \n",
      " 2   location      13319 non-null  object \n",
      " 3   size          13304 non-null  object \n",
      " 4   society       7818 non-null   object \n",
      " 5   total_sqft    13320 non-null  object \n",
      " 6   bath          13247 non-null  float64\n",
      " 7   balcony       12711 non-null  float64\n",
      " 8   price         13320 non-null  float64\n",
      "dtypes: float64(3), object(6)\n",
      "memory usage: 936.7+ KB\n"
     ]
    }
   ],
   "source": [
    "# Shape of the dataset (rows, columns)\n",
    "print(\"Dataset shape:\", df.shape)\n",
    "\n",
    "# Information about columns, datatypes, nulls, etc.\n",
    "df.info()"
   ]
  },
  {
   "cell_type": "code",
   "execution_count": 66,
   "id": "97fc2811-c476-4cea-bd23-17964cc539f9",
   "metadata": {},
   "outputs": [
    {
     "data": {
      "text/plain": [
       "area_type          0\n",
       "availability       0\n",
       "location           1\n",
       "size              16\n",
       "society         5502\n",
       "total_sqft         0\n",
       "bath              73\n",
       "balcony          609\n",
       "price              0\n",
       "dtype: int64"
      ]
     },
     "execution_count": 66,
     "metadata": {},
     "output_type": "execute_result"
    }
   ],
   "source": [
    "# Total missing values per column\n",
    "df.isnull().sum()"
   ]
  },
  {
   "cell_type": "code",
   "execution_count": 67,
   "id": "20f95d20-bcbc-4475-84e2-86e92797232c",
   "metadata": {},
   "outputs": [
    {
     "data": {
      "text/html": [
       "<div>\n",
       "<style scoped>\n",
       "    .dataframe tbody tr th:only-of-type {\n",
       "        vertical-align: middle;\n",
       "    }\n",
       "\n",
       "    .dataframe tbody tr th {\n",
       "        vertical-align: top;\n",
       "    }\n",
       "\n",
       "    .dataframe thead th {\n",
       "        text-align: right;\n",
       "    }\n",
       "</style>\n",
       "<table border=\"1\" class=\"dataframe\">\n",
       "  <thead>\n",
       "    <tr style=\"text-align: right;\">\n",
       "      <th></th>\n",
       "      <th>bath</th>\n",
       "      <th>balcony</th>\n",
       "      <th>price</th>\n",
       "    </tr>\n",
       "  </thead>\n",
       "  <tbody>\n",
       "    <tr>\n",
       "      <th>count</th>\n",
       "      <td>13247.000000</td>\n",
       "      <td>12711.000000</td>\n",
       "      <td>13320.000000</td>\n",
       "    </tr>\n",
       "    <tr>\n",
       "      <th>mean</th>\n",
       "      <td>2.692610</td>\n",
       "      <td>1.584376</td>\n",
       "      <td>112.565627</td>\n",
       "    </tr>\n",
       "    <tr>\n",
       "      <th>std</th>\n",
       "      <td>1.341458</td>\n",
       "      <td>0.817263</td>\n",
       "      <td>148.971674</td>\n",
       "    </tr>\n",
       "    <tr>\n",
       "      <th>min</th>\n",
       "      <td>1.000000</td>\n",
       "      <td>0.000000</td>\n",
       "      <td>8.000000</td>\n",
       "    </tr>\n",
       "    <tr>\n",
       "      <th>25%</th>\n",
       "      <td>2.000000</td>\n",
       "      <td>1.000000</td>\n",
       "      <td>50.000000</td>\n",
       "    </tr>\n",
       "    <tr>\n",
       "      <th>50%</th>\n",
       "      <td>2.000000</td>\n",
       "      <td>2.000000</td>\n",
       "      <td>72.000000</td>\n",
       "    </tr>\n",
       "    <tr>\n",
       "      <th>75%</th>\n",
       "      <td>3.000000</td>\n",
       "      <td>2.000000</td>\n",
       "      <td>120.000000</td>\n",
       "    </tr>\n",
       "    <tr>\n",
       "      <th>max</th>\n",
       "      <td>40.000000</td>\n",
       "      <td>3.000000</td>\n",
       "      <td>3600.000000</td>\n",
       "    </tr>\n",
       "  </tbody>\n",
       "</table>\n",
       "</div>"
      ],
      "text/plain": [
       "               bath       balcony         price\n",
       "count  13247.000000  12711.000000  13320.000000\n",
       "mean       2.692610      1.584376    112.565627\n",
       "std        1.341458      0.817263    148.971674\n",
       "min        1.000000      0.000000      8.000000\n",
       "25%        2.000000      1.000000     50.000000\n",
       "50%        2.000000      2.000000     72.000000\n",
       "75%        3.000000      2.000000    120.000000\n",
       "max       40.000000      3.000000   3600.000000"
      ]
     },
     "execution_count": 67,
     "metadata": {},
     "output_type": "execute_result"
    }
   ],
   "source": [
    "# Summary statistics for numerical columns\n",
    "df.describe()"
   ]
  },
  {
   "cell_type": "code",
   "execution_count": 68,
   "id": "c626eaa7-a875-489e-b8d1-87cf0cab3aa1",
   "metadata": {},
   "outputs": [
    {
     "data": {
      "text/plain": [
       "area_type        object\n",
       "availability     object\n",
       "location         object\n",
       "size             object\n",
       "society          object\n",
       "total_sqft       object\n",
       "bath            float64\n",
       "balcony         float64\n",
       "price           float64\n",
       "dtype: object"
      ]
     },
     "execution_count": 68,
     "metadata": {},
     "output_type": "execute_result"
    }
   ],
   "source": [
    "# Show column names and their types\n",
    "df.dtypes"
   ]
  },
  {
   "cell_type": "code",
   "execution_count": 69,
   "id": "6e09cb8f-a33b-4403-9841-abd844c7fd5e",
   "metadata": {},
   "outputs": [
    {
     "name": "stdout",
     "output_type": "stream",
     "text": [
      "Unique values in 'area_type': ['Super built-up  Area' 'Plot  Area' 'Built-up  Area' 'Carpet  Area']\n",
      "Unique values in 'availability': ['19-Dec' 'Ready To Move' '18-May' '18-Feb' '18-Nov' '20-Dec' '17-Oct'\n",
      " '21-Dec' '19-Sep' '20-Sep']\n",
      "Unique values in 'size': ['2 BHK' '4 Bedroom' '3 BHK' '4 BHK' '6 Bedroom' '3 Bedroom' '1 BHK'\n",
      " '1 RK' '1 Bedroom' '8 Bedroom']\n",
      "Unique values in 'location': 1305 locations\n"
     ]
    }
   ],
   "source": [
    "# Unique values in selected columns\n",
    "print(\"Unique values in 'area_type':\", df['area_type'].unique())\n",
    "print(\"Unique values in 'availability':\", df['availability'].unique()[:10])  # show first 10\n",
    "print(\"Unique values in 'size':\", df['size'].unique()[:10])\n",
    "print(\"Unique values in 'location':\", df['location'].nunique(), \"locations\")"
   ]
  },
  {
   "cell_type": "code",
   "execution_count": 70,
   "id": "cf547b8b-b37d-4c11-925f-04a81ceb3249",
   "metadata": {},
   "outputs": [
    {
     "data": {
      "image/png": "[encoded data removed]",
      "text/plain": [
       "<Figure size 640x480 with 1 Axes>"
      ]
     },
     "metadata": {},
     "output_type": "display_data"
    }
   ],
   "source": [
    "sns.heatmap(df.isnull(), cbar=False, cmap=\"viridis\")\n",
    "plt.title(\"Missing Values Heatmap\")\n",
    "plt.show()"
   ]
  },
  {
   "cell_type": "code",
   "execution_count": 71,
   "id": "6a62cb19-b4c0-4a76-a7c9-ed9b332c0293",
   "metadata": {},
   "outputs": [],
   "source": [
    "# Drop columns not useful for our model\n",
    "df = df.drop(['society', 'availability', 'area_type'], axis=1)"
   ]
  },
  {
   "cell_type": "code",
   "execution_count": 72,
   "id": "cb7741fa-cc4d-4f19-8f95-fa1865b98fc6",
   "metadata": {},
   "outputs": [],
   "source": [
    "# Drop rows with missing values in important columns\n",
    "df = df.dropna()"
   ]
  },
  {
   "cell_type": "code",
   "execution_count": 73,
   "id": "a1e250d3-83b5-4e05-8f90-4bff425837ef",
   "metadata": {},
   "outputs": [
    {
     "name": "stdout",
     "output_type": "stream",
     "text": [
      "location      0\n",
      "size          0\n",
      "total_sqft    0\n",
      "bath          0\n",
      "balcony       0\n",
      "price         0\n",
      "dtype: int64\n",
      "Updated dataset shape: (12710, 6)\n"
     ]
    }
   ],
   "source": [
    "# # Check if any missing values remain\n",
    "print(df.isnull().sum())\n",
    "\n",
    "# Updated shape\n",
    "print(\"Updated dataset shape:\", df.shape)"
   ]
  },
  {
   "cell_type": "code",
   "execution_count": 74,
   "id": "51c571c8-93b7-4b34-bfc2-a1af9a5a89a0",
   "metadata": {},
   "outputs": [],
   "source": [
    "# Create a new column 'BHK' by extracting number from 'size'\n",
    "df['BHK'] = df['size'].apply(lambda x: int(x.split(' ')[0]))"
   ]
  },
  {
   "cell_type": "code",
   "execution_count": 75,
   "id": "219b8065-4613-4e59-972f-fdb456230067",
   "metadata": {},
   "outputs": [],
   "source": [
    "def convert_sqft_to_num(x):\n",
    "    try:\n",
    "        if '-' in x:\n",
    "            tokens = x.split('-')\n",
    "            return (float(tokens[0]) + float(tokens[1])) / 2\n",
    "        return float(x)\n",
    "    except:\n",
    "        return None\n",
    "\n",
    "# Apply conversion\n",
    "df['total_sqft'] = df['total_sqft'].apply(convert_sqft_to_num)\n",
    "\n",
    "# Drop rows where conversion failed\n",
    "df = df[df['total_sqft'].notnull()]"
   ]
  },
  {
   "cell_type": "code",
   "execution_count": 76,
   "id": "84e4681c-6198-45f4-9b91-919f83ffbf60",
   "metadata": {},
   "outputs": [],
   "source": [
    "# Strip leading/trailing spaces\n",
    "df['location'] = df['location'].apply(lambda x: x.strip())\n",
    "\n",
    "# Group locations with less than 10 data points into 'other'\n",
    "location_stats = df['location'].value_counts()\n",
    "location_stats_less_than_10 = location_stats[location_stats <= 10]\n",
    "df['location'] = df['location'].apply(lambda x: 'other' if x in location_stats_less_than_10 else x)"
   ]
  },
  {
   "cell_type": "code",
   "execution_count": 77,
   "id": "a72b3e6c-05fb-46cd-b62b-ca33d8396d92",
   "metadata": {},
   "outputs": [],
   "source": [
    "df = df.drop('size', axis=1)"
   ]
  },
  {
   "cell_type": "code",
   "execution_count": 78,
   "id": "753df6af-9c2f-4743-80c0-f883a6aeb7b6",
   "metadata": {},
   "outputs": [],
   "source": [
    "# Store cleaned features before encoding\n",
    "X_inputs = df[['total_sqft', 'bath', 'balcony', 'BHK', 'location']].copy()"
   ]
  },
  {
   "cell_type": "code",
   "execution_count": 79,
   "id": "981e7434-8cc8-491d-8c7e-a27e64dbd29e",
   "metadata": {},
   "outputs": [],
   "source": [
    "# One-hot encode 'location' using pandas\n",
    "dummies = pd.get_dummies(df['location'], drop_first=True)\n",
    "\n",
    "# Add encoded columns to the main DataFrame\n",
    "df = pd.concat([df, dummies], axis=1)\n",
    "\n",
    "# Drop the original 'location' column\n",
    "df = df.drop('location', axis=1)"
   ]
  },
  {
   "cell_type": "code",
   "execution_count": 80,
   "id": "52b58757-dfa6-4797-8622-f6e36aef16f7",
   "metadata": {},
   "outputs": [
    {
     "name": "stdout",
     "output_type": "stream",
     "text": [
      "Columns after encoding:\n",
      "Index(['total_sqft', 'bath', 'balcony', 'price', 'BHK', '1st Phase JP Nagar',\n",
      "       '2nd Phase Judicial Layout', '2nd Stage Nagarbhavi',\n",
      "       '5th Phase JP Nagar', '6th Phase JP Nagar',\n",
      "       ...\n",
      "       'Vishveshwarya Layout', 'Vishwapriya Layout', 'Vittasandra',\n",
      "       'Whitefield', 'Yelachenahalli', 'Yelahanka', 'Yelahanka New Town',\n",
      "       'Yelenahalli', 'Yeshwanthpur', 'other'],\n",
      "      dtype='object', length=240)\n",
      "\n",
      "Dataset shape: (12668, 240)\n"
     ]
    }
   ],
   "source": [
    "print(\"Columns after encoding:\")\n",
    "print(df.columns)\n",
    "\n",
    "print(\"\\nDataset shape:\", df.shape)"
   ]
  },
  {
   "cell_type": "code",
   "execution_count": 81,
   "id": "3ebb828a-9c2a-4db5-9fc1-dd5e146697a2",
   "metadata": {},
   "outputs": [],
   "source": [
    "y = df['price']"
   ]
  },
  {
   "cell_type": "code",
   "execution_count": 82,
   "id": "335d0d41-4a46-4503-bb85-bf4617df5475",
   "metadata": {},
   "outputs": [],
   "source": [
    "X = df.drop('price', axis=1)"
   ]
  },
  {
   "cell_type": "code",
   "execution_count": 83,
   "id": "5ab5b578-cdb2-400d-91ca-d8e3bd39ee08",
   "metadata": {},
   "outputs": [
    {
     "name": "stdout",
     "output_type": "stream",
     "text": [
      "Features shape: (12668, 239)\n",
      "Target shape: (12668,)\n"
     ]
    }
   ],
   "source": [
    "print(\"Features shape:\", X.shape)\n",
    "print(\"Target shape:\", y.shape)"
   ]
  },
  {
   "cell_type": "code",
   "execution_count": null,
   "id": "b37fc1e4-25c8-431a-8d65-d5860aaac7e3",
   "metadata": {},
   "outputs": [],
   "source": [
    "import matplotlib.pyplot as plt\n",
    "import seaborn as sns\n",
    "\n",
    "plt.figure(figsize=(10,8))\n",
    "sns.heatmap(df.corr(), annot=True, cmap='coolwarm')\n",
    "plt.title(\"Feature Correlation Heatmap\")\n",
    "plt.show()"
   ]
  },
  {
   "cell_type": "code",
   "execution_count": null,
   "id": "91c60b8b-23c5-4edb-8b44-ec16254a274b",
   "metadata": {},
   "outputs": [],
   "source": [
    "from sklearn.model_selection import train_test_split\n",
    "\n",
    "# Split the data: 80% training, 20% testing\n",
    "X_train, X_test, y_train, y_test = train_test_split(\n",
    "    X, y, test_size=0.2, random_state=42\n",
    ")\n",
    "\n",
    "print(f\"Training set size: {X_train.shape[0]} samples\")\n",
    "print(f\"Test set size: {X_test.shape[0]} samples\")"
   ]
  },
  {
   "cell_type": "code",
   "execution_count": null,
   "id": "27b938a1-24d6-4c2b-a412-df4f8f630d93",
   "metadata": {},
   "outputs": [],
   "source": [
    "# Initialize Linear Regression model\n",
    "lr_model = LinearRegression()\n",
    "\n",
    "# Train the model on training data\n",
    "lr_model.fit(X_train, y_train)"
   ]
  },
  {
   "cell_type": "code",
   "execution_count": null,
   "id": "38c56f52-0b92-40b9-aeac-209566a75bf9",
   "metadata": {},
   "outputs": [],
   "source": [
    "print(\"Intercept:\", lr_model.intercept_)\n",
    "print(\"Coefficients:\", lr_model.coef_)"
   ]
  },
  {
   "cell_type": "code",
   "execution_count": null,
   "id": "6a071471-f502-49da-b6e5-68d901abb8e7",
   "metadata": {},
   "outputs": [],
   "source": [
    "y_pred = lr_model.predict(X_test)"
   ]
  },
  {
   "cell_type": "code",
   "execution_count": null,
   "id": "4513990c-8d32-40b2-a02a-7a938e473d2e",
   "metadata": {},
   "outputs": [],
   "source": [
    "# from sklearn.metrics import r2_score, mean_absolute_error\n",
    "\n",
    "# r2 = r2_score(y_test, y_pred)\n",
    "# mae = mean_absolute_error(y_test, y_pred)\n",
    "\n",
    "# print(f\"R² Score: {r2:.4f}\")\n",
    "# print(f\"Mean Absolute Error: {mae:.4f} lakhs\")"
   ]
  },
  {
   "cell_type": "code",
   "execution_count": null,
   "id": "437959b5-439d-4d48-821f-9a148c282732",
   "metadata": {},
   "outputs": [],
   "source": [
    "import matplotlib.pyplot as plt\n",
    "\n",
    "plt.figure(figsize=(8,6))\n",
    "plt.scatter(y_test, y_pred, alpha=0.6, color='blue')\n",
    "plt.plot([min(y_test), max(y_test)], [min(y_test), max(y_test)], 'r--')  # perfect prediction line\n",
    "plt.xlabel(\"Actual Prices (lakhs)\")\n",
    "plt.ylabel(\"Predicted Prices (lakhs)\")\n",
    "plt.title(\"Actual vs Predicted House Prices\")\n",
    "plt.show()"
   ]
  },
  {
   "cell_type": "code",
   "execution_count": null,
   "id": "863d2964-d8f1-4b32-b645-6c87296de5f2",
   "metadata": {},
   "outputs": [],
   "source": [
    "# from sklearn.model_selection import cross_val_score\n",
    "\n",
    "# scores = cross_val_score(lr_model, X, y, cv=5, scoring='r2')\n",
    "# print(f\"Cross-validated R² scores: {scores}\")\n",
    "# print(f\"Mean CV R² score: {scores.mean():.4f}\")"
   ]
  },
  {
   "cell_type": "code",
   "execution_count": null,
   "id": "8596fdd1-3bb6-43fe-b505-deccd4860086",
   "metadata": {},
   "outputs": [],
   "source": [
    "plt.figure(figsize=(8,5))\n",
    "sns.histplot(df['price'], bins=50, kde=True)\n",
    "plt.title(\"Distribution of House Prices\")\n",
    "plt.xlabel(\"Price (lakhs)\")\n",
    "plt.show()"
   ]
  },
  {
   "cell_type": "code",
   "execution_count": null,
   "id": "879ce140-c1cb-4996-a9c0-8a2bd2d0df91",
   "metadata": {},
   "outputs": [],
   "source": [
    "plt.figure(figsize=(8,5))\n",
    "sns.scatterplot(x='total_sqft', y='price', data=df, alpha=0.5)\n",
    "plt.title(\"Price vs Total Square Feet\")\n",
    "plt.xlabel(\"Total Square Feet\")\n",
    "plt.ylabel(\"Price (lakhs)\")\n",
    "plt.show()"
   ]
  },
  {
   "cell_type": "code",
   "execution_count": null,
   "id": "aa38b622-fd3d-4da3-adb9-4eb189abe431",
   "metadata": {},
   "outputs": [],
   "source": [
    "plt.figure(figsize=(8,5))\n",
    "sns.boxplot(x='BHK', y='price', data=df)\n",
    "plt.title(\"Price vs Number of BHK\")\n",
    "plt.show()"
   ]
  },
  {
   "cell_type": "code",
   "execution_count": null,
   "id": "f7e69f46-30fa-4928-8eda-3303355d8c8a",
   "metadata": {},
   "outputs": [],
   "source": [
    "plt.figure(figsize=(8,5))\n",
    "residuals = y_test - y_pred\n",
    "sns.histplot(residuals, bins=40, kde=True)\n",
    "plt.title(\"Distribution of Residuals\")\n",
    "plt.xlabel(\"Residuals (Actual - Predicted Price)\")\n",
    "plt.show()"
   ]
  },
  {
   "cell_type": "code",
   "execution_count": null,
   "id": "825aa5f2-1574-4126-b16a-f75f52901395",
   "metadata": {},
   "outputs": [],
   "source": [
    "import seaborn as sns\n",
    "import matplotlib.pyplot as plt\n",
    "\n",
    "# Bar chart: Average house price per location using original data\n",
    "if 'location' in df_original.columns:\n",
    "    avg_price_by_location = df_original.groupby('location')['price'].mean().sort_values(ascending=False).head(20)\n",
    "\n",
    "    plt.figure(figsize=(12,6))\n",
    "    sns.barplot(x=avg_price_by_location.values, y=avg_price_by_location.index, palette='viridis')\n",
    "    plt.xlabel('Average Price (in Lakhs)')\n",
    "    plt.ylabel('Location')\n",
    "    plt.title('Top 20 Locations with Highest Average House Prices')\n",
    "    plt.tight_layout()\n",
    "    plt.show()\n",
    "else:\n",
    "    print(\"location column not found in df_original\")"
   ]
  },
  {
   "cell_type": "code",
   "execution_count": null,
   "id": "05d74b1c-1eb1-4a70-a32d-c2bd37d43487",
   "metadata": {},
   "outputs": [],
   "source": [
    "from sklearn.metrics import r2_score, mean_absolute_error\n",
    "\n",
    "r2 = r2_score(y_test, y_pred)\n",
    "mae = mean_absolute_error(y_test, y_pred)\n",
    "\n",
    "print(f\"R² Score: {r2:.4f}\")\n",
    "print(f\"Mean Absolute Error: {mae:.4f} lakhs\")"
   ]
  },
  {
   "cell_type": "code",
   "execution_count": null,
   "id": "87a19df2-7f86-4b14-988c-213b3da4997e",
   "metadata": {},
   "outputs": [],
   "source": [
    "from sklearn.model_selection import cross_val_score\n",
    "\n",
    "scores = cross_val_score(lr_model, X, y, cv=5, scoring='r2')\n",
    "print(f\"Cross-validated R² scores: {scores}\")\n",
    "print(f\"Mean CV R² score: {scores.mean():.4f}\")"
   ]
  },
  {
   "cell_type": "code",
   "execution_count": null,
   "id": "287de376-d632-4cc6-ac90-75cd66172f47",
   "metadata": {},
   "outputs": [],
   "source": [
    "import joblib\n",
    "\n",
    "# Save the trained model to a file\n",
    "joblib.dump(lr_model, 'house_price_model.pkl')\n",
    "\n",
    "print(\"Model saved as 'house_price_model.pkl'\")"
   ]
  },
  {
   "cell_type": "code",
   "execution_count": null,
   "id": "8d5b7c1e-2629-4c5e-9497-a49e1668ff13",
   "metadata": {},
   "outputs": [],
   "source": [
    "# Load the model from the file\n",
    "loaded_model = joblib.load('house_price_model.pkl')\n",
    "\n",
    "# Predict using the loaded model (example)\n",
    "loaded_model.predict([X_test.iloc[0]])"
   ]
  },
  {
   "cell_type": "code",
   "execution_count": null,
   "id": "6e9b7ef9-ae13-4361-80f8-391ac0921199",
   "metadata": {},
   "outputs": [],
   "source": [
    "import joblib\n",
    "import numpy as np\n",
    "import pandas as pd\n",
    "\n",
    "# Load model\n",
    "model = joblib.load('house_price_model.pkl')\n",
    "\n",
    "# Example input\n",
    "input_data = {\n",
    "    'total_sqft': 2000,\n",
    "    'bath': 2,\n",
    "    'balcony': 2,\n",
    "    'BHK': 2,\n",
    "    'location': 'Whitefield'\n",
    "}"
   ]
  },
  {
   "cell_type": "code",
   "execution_count": null,
   "id": "f343bad8-089f-499d-b16c-2e1557fa22ad",
   "metadata": {},
   "outputs": [],
   "source": [
    "# Create a base input row with zeros for all columns\n",
    "columns = X.columns  # This should be saved earlier or reloaded from disk\n",
    "input_df = pd.DataFrame(data=np.zeros((1, len(columns))), columns=columns)\n",
    "\n",
    "# Set the numerical features\n",
    "input_df.at[0, 'total_sqft'] = input_data['total_sqft']\n",
    "input_df.at[0, 'bath'] = input_data['bath']\n",
    "input_df.at[0, 'balcony'] = input_data['balcony']\n",
    "input_df.at[0, 'BHK'] = input_data['BHK']\n",
    "\n",
    "# Handle location (one-hot encoding)\n",
    "location_col = f\"{input_data['location']}\"\n",
    "if location_col in input_df.columns:\n",
    "    input_df.at[0, location_col] = 1\n",
    "else:\n",
    "    # Location is 'other' (we encoded rare ones this way)\n",
    "    if 'other' in input_df.columns:\n",
    "        input_df.at[0, 'other'] = 1"
   ]
  },
  {
   "cell_type": "code",
   "execution_count": null,
   "id": "24600a6c-620e-4058-9dea-75c87601280b",
   "metadata": {},
   "outputs": [],
   "source": [
    "# Create the actual vs predicted table using original features\n",
    "comparison_df = pd.DataFrame({\n",
    "    'Total Sqft': X_inputs.loc[X_test.index, 'total_sqft'].values,\n",
    "    'Bath': X_inputs.loc[X_test.index, 'bath'].values,\n",
    "    'Balcony': X_inputs.loc[X_test.index, 'balcony'].values,\n",
    "    'BHK': X_inputs.loc[X_test.index, 'BHK'].values,\n",
    "    'Location': X_inputs.loc[X_test.index, 'location'].values,\n",
    "    'Actual Price (₹)': y_test.values,\n",
    "    'Predicted Price (₹)': y_pred.astype(int)\n",
    "})\n",
    "\n",
    "# Display first 10 rows\n",
    "comparison_df.head(10)"
   ]
  },
  {
   "cell_type": "code",
   "execution_count": null,
   "id": "78c51d94-a40a-41ea-86b9-a1df69f57492",
   "metadata": {},
   "outputs": [],
   "source": [
    "# Predict\n",
    "predicted_price = model.predict(input_df)[0]\n",
    "print(f\"Predicted house price: ₹{predicted_price:.2f} lakhs\")"
   ]
  },
  {
   "cell_type": "code",
   "execution_count": null,
   "id": "ffe6481b-173b-4f77-aa5a-99c90a2c5757",
   "metadata": {},
   "outputs": [],
   "source": []
  }
 ],
 "metadata": {
  "kernelspec": {
   "display_name": "Python 3 (ipykernel)",
   "language": "python",
   "name": "python3"
  },
  "language_info": {
   "codemirror_mode": {
    "name": "ipython",
    "version": 3
   },
   "file_extension": ".py",
   "mimetype": "text/x-python",
   "name": "python",
   "nbconvert_exporter": "python",
   "pygments_lexer": "ipython3",
   "version": "3.10.12"
  }
 },
 "nbformat": 4,
 "nbformat_minor": 5
}
